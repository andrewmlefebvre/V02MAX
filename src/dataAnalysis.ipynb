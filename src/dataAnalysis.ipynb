{
 "metadata": {
  "language_info": {
   "codemirror_mode": {
    "name": "ipython",
    "version": 3
   },
   "file_extension": ".py",
   "mimetype": "text/x-python",
   "name": "python",
   "nbconvert_exporter": "python",
   "pygments_lexer": "ipython3",
   "version": 3
  },
  "orig_nbformat": 2
 },
 "nbformat": 4,
 "nbformat_minor": 2,
 "cells": [
  {
   "cell_type": "code",
   "execution_count": null,
   "metadata": {},
   "outputs": [],
   "source": [
    "import matplotlib at mtplt"
   ]
  },
  {
   "source": [
    "**Data Analysis**"
   ],
   "cell_type": "markdown",
   "metadata": {}
  },
  {
   "source": [
    "This data is represented in 6 columns.  These are time, power, oxygen, cadence, HR, and RF."
   ],
   "cell_type": "markdown",
   "metadata": {}
  },
  {
   "source": [
    "**Time**"
   ],
   "cell_type": "markdown",
   "metadata": {}
  },
  {
   "source": [
    "Time is represented in seconds of activity.  There were many trials that make up the overall data, and most trials ended around 2,400 seconds although some may differ."
   ],
   "cell_type": "markdown",
   "metadata": {}
  }
 ]
}