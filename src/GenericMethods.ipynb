{
 "cells": [
  {
   "cell_type": "markdown",
   "metadata": {},
   "source": [
    "# VO2 Max Model Experiments\n",
    "##### Andrew Lefebvre and Adam Cabral\n",
    "\n",
    "### Here we test multiple different regression methods and compare their results to find the best to use."
   ]
  },
  {
   "cell_type": "code",
   "execution_count": 1,
   "metadata": {},
   "outputs": [],
   "source": [
    "import pandas as pd\n",
    "from sklearn.metrics import r2_score\n",
    "from sklearn.model_selection import GridSearchCV\n",
    "from sklearn.model_selection import train_test_split\n",
    "from sklearn.metrics import mean_squared_error\n",
    "from sklearn import preprocessing\n",
    "from matplotlib import pyplot as plt"
   ]
  },
  {
   "cell_type": "code",
   "execution_count": 2,
   "metadata": {},
   "outputs": [],
   "source": [
    "# test_df = pd.read_csv(\"./data/rawData/sbj_1_I.csv\")\n",
    "df = pd.read_csv(\"../data/concatedData/combined_csv.csv\")\n",
    "prepro = preprocessing.MinMaxScaler()\n",
    "\n",
    "# df = pd.read_csv(\"./data/rawData/sbj_2_I.csv\")\n",
    "df.drop(['time'], axis=1, inplace=True)\n",
    "# test_df.drop(['Cadence', 'Time'], axis=1, inplace=True)"
   ]
  },
  {
   "cell_type": "code",
   "execution_count": 3,
   "metadata": {},
   "outputs": [
    {
     "data": {
      "text/html": [
       "<div>\n",
       "<style scoped>\n",
       "    .dataframe tbody tr th:only-of-type {\n",
       "        vertical-align: middle;\n",
       "    }\n",
       "\n",
       "    .dataframe tbody tr th {\n",
       "        vertical-align: top;\n",
       "    }\n",
       "\n",
       "    .dataframe thead th {\n",
       "        text-align: right;\n",
       "    }\n",
       "</style>\n",
       "<table border=\"1\" class=\"dataframe\">\n",
       "  <thead>\n",
       "    <tr style=\"text-align: right;\">\n",
       "      <th></th>\n",
       "      <th>Power</th>\n",
       "      <th>Oxygen</th>\n",
       "      <th>Cadence</th>\n",
       "      <th>HR</th>\n",
       "      <th>RF</th>\n",
       "    </tr>\n",
       "  </thead>\n",
       "  <tbody>\n",
       "    <tr>\n",
       "      <th>0</th>\n",
       "      <td>0.0</td>\n",
       "      <td>742.400000</td>\n",
       "      <td>0.0</td>\n",
       "      <td>73.200000</td>\n",
       "      <td>16.800000</td>\n",
       "    </tr>\n",
       "    <tr>\n",
       "      <th>1</th>\n",
       "      <td>0.0</td>\n",
       "      <td>737.500000</td>\n",
       "      <td>0.0</td>\n",
       "      <td>73.500000</td>\n",
       "      <td>16.000000</td>\n",
       "    </tr>\n",
       "    <tr>\n",
       "      <th>2</th>\n",
       "      <td>0.0</td>\n",
       "      <td>729.261905</td>\n",
       "      <td>0.0</td>\n",
       "      <td>73.642857</td>\n",
       "      <td>15.404762</td>\n",
       "    </tr>\n",
       "    <tr>\n",
       "      <th>3</th>\n",
       "      <td>0.0</td>\n",
       "      <td>718.937500</td>\n",
       "      <td>0.0</td>\n",
       "      <td>73.687500</td>\n",
       "      <td>14.937500</td>\n",
       "    </tr>\n",
       "    <tr>\n",
       "      <th>4</th>\n",
       "      <td>0.0</td>\n",
       "      <td>707.222222</td>\n",
       "      <td>0.0</td>\n",
       "      <td>73.666667</td>\n",
       "      <td>14.555556</td>\n",
       "    </tr>\n",
       "  </tbody>\n",
       "</table>\n",
       "</div>"
      ],
      "text/plain": [
       "   Power      Oxygen  Cadence         HR         RF\n",
       "0    0.0  742.400000      0.0  73.200000  16.800000\n",
       "1    0.0  737.500000      0.0  73.500000  16.000000\n",
       "2    0.0  729.261905      0.0  73.642857  15.404762\n",
       "3    0.0  718.937500      0.0  73.687500  14.937500\n",
       "4    0.0  707.222222      0.0  73.666667  14.555556"
      ]
     },
     "execution_count": 3,
     "metadata": {},
     "output_type": "execute_result"
    }
   ],
   "source": [
    "df.head()"
   ]
  },
  {
   "cell_type": "code",
   "execution_count": 4,
   "metadata": {},
   "outputs": [
    {
     "data": {
      "text/html": [
       "<div>\n",
       "<style scoped>\n",
       "    .dataframe tbody tr th:only-of-type {\n",
       "        vertical-align: middle;\n",
       "    }\n",
       "\n",
       "    .dataframe tbody tr th {\n",
       "        vertical-align: top;\n",
       "    }\n",
       "\n",
       "    .dataframe thead th {\n",
       "        text-align: right;\n",
       "    }\n",
       "</style>\n",
       "<table border=\"1\" class=\"dataframe\">\n",
       "  <thead>\n",
       "    <tr style=\"text-align: right;\">\n",
       "      <th></th>\n",
       "      <th>Power</th>\n",
       "      <th>Oxygen</th>\n",
       "      <th>Cadence</th>\n",
       "      <th>HR</th>\n",
       "      <th>RF</th>\n",
       "    </tr>\n",
       "  </thead>\n",
       "  <tbody>\n",
       "    <tr>\n",
       "      <th>count</th>\n",
       "      <td>194331.000000</td>\n",
       "      <td>194331.000000</td>\n",
       "      <td>194331.000000</td>\n",
       "      <td>194331.000000</td>\n",
       "      <td>194331.000000</td>\n",
       "    </tr>\n",
       "    <tr>\n",
       "      <th>mean</th>\n",
       "      <td>142.437478</td>\n",
       "      <td>2313.769284</td>\n",
       "      <td>70.317138</td>\n",
       "      <td>127.814212</td>\n",
       "      <td>29.158271</td>\n",
       "    </tr>\n",
       "    <tr>\n",
       "      <th>std</th>\n",
       "      <td>121.223069</td>\n",
       "      <td>1272.320962</td>\n",
       "      <td>36.759724</td>\n",
       "      <td>35.887111</td>\n",
       "      <td>9.604156</td>\n",
       "    </tr>\n",
       "    <tr>\n",
       "      <th>min</th>\n",
       "      <td>0.000000</td>\n",
       "      <td>105.273333</td>\n",
       "      <td>0.000000</td>\n",
       "      <td>45.394286</td>\n",
       "      <td>5.927273</td>\n",
       "    </tr>\n",
       "    <tr>\n",
       "      <th>25%</th>\n",
       "      <td>0.000000</td>\n",
       "      <td>1096.750000</td>\n",
       "      <td>80.000000</td>\n",
       "      <td>101.000000</td>\n",
       "      <td>22.300000</td>\n",
       "    </tr>\n",
       "    <tr>\n",
       "      <th>50%</th>\n",
       "      <td>134.000000</td>\n",
       "      <td>2282.083333</td>\n",
       "      <td>90.000000</td>\n",
       "      <td>129.900000</td>\n",
       "      <td>28.200000</td>\n",
       "    </tr>\n",
       "    <tr>\n",
       "      <th>75%</th>\n",
       "      <td>247.000000</td>\n",
       "      <td>3307.950000</td>\n",
       "      <td>90.000000</td>\n",
       "      <td>157.550000</td>\n",
       "      <td>35.050000</td>\n",
       "    </tr>\n",
       "    <tr>\n",
       "      <th>max</th>\n",
       "      <td>899.028571</td>\n",
       "      <td>5988.450000</td>\n",
       "      <td>153.268421</td>\n",
       "      <td>204.600000</td>\n",
       "      <td>172.300000</td>\n",
       "    </tr>\n",
       "  </tbody>\n",
       "</table>\n",
       "</div>"
      ],
      "text/plain": [
       "               Power         Oxygen        Cadence             HR  \\\n",
       "count  194331.000000  194331.000000  194331.000000  194331.000000   \n",
       "mean      142.437478    2313.769284      70.317138     127.814212   \n",
       "std       121.223069    1272.320962      36.759724      35.887111   \n",
       "min         0.000000     105.273333       0.000000      45.394286   \n",
       "25%         0.000000    1096.750000      80.000000     101.000000   \n",
       "50%       134.000000    2282.083333      90.000000     129.900000   \n",
       "75%       247.000000    3307.950000      90.000000     157.550000   \n",
       "max       899.028571    5988.450000     153.268421     204.600000   \n",
       "\n",
       "                  RF  \n",
       "count  194331.000000  \n",
       "mean       29.158271  \n",
       "std         9.604156  \n",
       "min         5.927273  \n",
       "25%        22.300000  \n",
       "50%        28.200000  \n",
       "75%        35.050000  \n",
       "max       172.300000  "
      ]
     },
     "execution_count": 4,
     "metadata": {},
     "output_type": "execute_result"
    }
   ],
   "source": [
    "df.describe()"
   ]
  },
  {
   "cell_type": "code",
   "execution_count": 5,
   "metadata": {},
   "outputs": [],
   "source": [
    "feat_df = df.drop(['Oxygen'], axis=1)\n",
    "targ_df = df['Oxygen']\n",
    "\n",
    "train_feat_df, test_feat_df, train_targ_df, test_targ_df = train_test_split(feat_df, targ_df, test_size = 0.20, random_state=42, shuffle=True)\n",
    "\n",
    "train_feat_df = prepro.fit_transform(train_feat_df)\n",
    "test_feat_df = prepro.transform(test_feat_df)\n"
   ]
  },
  {
   "cell_type": "markdown",
   "metadata": {},
   "source": [
    "## Models to be tested:\n",
    "##### 1. KNN Regression\n"
   ]
  },
  {
   "cell_type": "code",
   "execution_count": 6,
   "metadata": {},
   "outputs": [
    {
     "name": "stdout",
     "output_type": "stream",
     "text": [
      "Fitting 5 folds for each of 1 candidates, totalling 5 fits\n"
     ]
    },
    {
     "name": "stderr",
     "output_type": "stream",
     "text": [
      "[Parallel(n_jobs=4)]: Using backend LokyBackend with 4 concurrent workers.\n",
      "[Parallel(n_jobs=4)]: Done   5 out of   5 | elapsed:    4.2s finished\n"
     ]
    },
    {
     "data": {
      "text/plain": [
       "GridSearchCV(cv=None, error_score=nan,\n",
       "             estimator=KNeighborsRegressor(algorithm='auto', leaf_size=30,\n",
       "                                           metric='minkowski',\n",
       "                                           metric_params=None, n_jobs=None,\n",
       "                                           n_neighbors=5, p=2,\n",
       "                                           weights='uniform'),\n",
       "             iid='deprecated', n_jobs=4, param_grid={'n_neighbors': [5]},\n",
       "             pre_dispatch='2*n_jobs', refit=True, return_train_score=False,\n",
       "             scoring=None, verbose=1)"
      ]
     },
     "execution_count": 6,
     "metadata": {},
     "output_type": "execute_result"
    }
   ],
   "source": [
    "from sklearn.neighbors import KNeighborsRegressor\n",
    "\n",
    "# KNN_Parameters = {'n_neighbors': [i for i in range(1,100)]}\n",
    "KNN_Parameters = {'n_neighbors': [5]}\n",
    "neigh_regr = GridSearchCV(KNeighborsRegressor(), KNN_Parameters, verbose = 1, n_jobs = 4)\n",
    "neigh_regr.fit(train_feat_df, train_targ_df)\n"
   ]
  },
  {
   "cell_type": "code",
   "execution_count": 7,
   "metadata": {},
   "outputs": [
    {
     "name": "stdout",
     "output_type": "stream",
     "text": [
      "Predicted Max Oxygen:  5972.45 Actual Max Oxygen:  5984.55\n"
     ]
    }
   ],
   "source": [
    "test_pred_targ = neigh_regr.predict(test_feat_df)\n",
    "print(\"Predicted Max Oxygen: \", test_pred_targ.max(), \"Actual Max Oxygen: \", test_targ_df.max())"
   ]
  },
  {
   "cell_type": "code",
   "execution_count": 10,
   "metadata": {},
   "outputs": [
    {
     "data": {
      "text/plain": [
       "Text(0, 0.5, 'Accuracy')"
      ]
     },
     "execution_count": 10,
     "metadata": {},
     "output_type": "execute_result"
    },
    {
     "data": {
      "image/png": "[encoded data removed]",
      "text/plain": [
       "<Figure size 432x288 with 1 Axes>"
      ]
     },
     "metadata": {
      "needs_background": "light"
     },
     "output_type": "display_data"
    }
   ],
   "source": [
    "# neigh_regr.cv_results_['mean_test_score']\n",
    "fig = plt.figure()\n",
    "ax=fig.add_axes([0,0,1,1])\n",
    "ax.plot(neigh_regr.cv_results_['param_n_neighbors'].data, neigh_regr.cv_results_['mean_test_score'])\n",
    "ax.set_title(\"KNN Test Accuracy\")\n",
    "ax.set_xlabel('K Neighbors')\n",
    "ax.set_ylabel('Accuracy')"
   ]
  },
  {
   "cell_type": "code",
   "execution_count": 11,
   "metadata": {},
   "outputs": [
    {
     "data": {
      "text/plain": [
       "0.9860183574728628"
      ]
     },
     "execution_count": 11,
     "metadata": {},
     "output_type": "execute_result"
    }
   ],
   "source": [
    "r2_score(test_pred_targ,test_targ_df)"
   ]
  },
  {
   "cell_type": "markdown",
   "metadata": {},
   "source": [
    "##### 2. Linear Regression"
   ]
  },
  {
   "cell_type": "code",
   "execution_count": 28,
   "metadata": {},
   "outputs": [
    {
     "data": {
      "text/plain": [
       "LinearRegression(copy_X=True, fit_intercept=True, n_jobs=4, normalize=False)"
      ]
     },
     "execution_count": 28,
     "metadata": {},
     "output_type": "execute_result"
    }
   ],
   "source": [
    "from sklearn.linear_model import LinearRegression\n",
    "lin_regr = LinearRegression(n_jobs = 4)\n",
    "lin_regr.fit(train_feat_df, train_targ_df)"
   ]
  },
  {
   "cell_type": "code",
   "execution_count": 29,
   "metadata": {},
   "outputs": [
    {
     "name": "stdout",
     "output_type": "stream",
     "text": [
      "Predicted Max Oxygen:  6763.337476021723 Actual Max Oxygen:  5984.55\n"
     ]
    }
   ],
   "source": [
    "LinearR_pred_targ = lin_regr.predict(test_feat_df)\n",
    "print(\"Predicted Max Oxygen: \", LinearR_pred_targ.max(), \"Actual Max Oxygen: \", test_targ_df.max())"
   ]
  },
  {
   "cell_type": "code",
   "execution_count": 30,
   "metadata": {},
   "outputs": [
    {
     "data": {
      "text/plain": [
       "0.8726995571887195"
      ]
     },
     "execution_count": 30,
     "metadata": {},
     "output_type": "execute_result"
    }
   ],
   "source": [
    "r2_score(LinearR_pred_targ,test_targ_df)"
   ]
  },
  {
   "cell_type": "markdown",
   "metadata": {},
   "source": [
    "##### 3. Support Vector Machine"
   ]
  },
  {
   "cell_type": "code",
   "execution_count": 15,
   "metadata": {},
   "outputs": [
    {
     "name": "stdout",
     "output_type": "stream",
     "text": [
      "[LibSVM]"
     ]
    },
    {
     "data": {
      "text/plain": [
       "SVR(C=1.0, cache_size=200, coef0=0.0, degree=3, epsilon=0.1, gamma='scale',\n",
       "    kernel='rbf', max_iter=-1, shrinking=True, tol=0.001, verbose=True)"
      ]
     },
     "execution_count": 15,
     "metadata": {},
     "output_type": "execute_result"
    }
   ],
   "source": [
    "from sklearn import svm\n",
    "# svm_regr = svm.SVR()\n",
    "svm_parameters = {'kernel':('linear', 'rbf'), 'C':[1, 10]}\n",
    " \n",
    "svm_regr = GridSearchCV(svm.SVR(), svm_parameters, verbose = 3, n_jobs = 4)\n",
    "# svm_regr = svm.SVR(verbose = True)\n",
    "svm_regr.fit(train_feat_df, train_targ_df)"
   ]
  },
  {
   "cell_type": "code",
   "execution_count": 16,
   "metadata": {},
   "outputs": [
    {
     "name": "stdout",
     "output_type": "stream",
     "text": [
      "Predicted Max Oxygen:  4478.306941388619 Actual Max Oxygen:  5984.55\n"
     ]
    }
   ],
   "source": [
    "svm_pred = svm_regr.predict(test_feat_df)\n",
    "print(\"Predicted Max Oxygen: \", svm_pred.max(), \"Actual Max Oxygen: \", test_targ_df.max())"
   ]
  },
  {
   "cell_type": "code",
   "execution_count": 17,
   "metadata": {},
   "outputs": [
    {
     "data": {
      "text/plain": [
       "0.8865012065197204"
      ]
     },
     "execution_count": 17,
     "metadata": {},
     "output_type": "execute_result"
    }
   ],
   "source": [
    "r2_score(svm_pred,test_targ_df)"
   ]
  },
  {
   "cell_type": "markdown",
   "metadata": {},
   "source": [
    "##### 4. MLP Regressor"
   ]
  },
  {
   "cell_type": "code",
   "execution_count": 18,
   "metadata": {},
   "outputs": [],
   "source": [
    "from sklearn.neural_network import MLPRegressor"
   ]
  },
  {
   "cell_type": "code",
   "execution_count": 19,
   "metadata": {},
   "outputs": [
    {
     "name": "stdout",
     "output_type": "stream",
     "text": [
      "Iteration 1, loss = 1763299.94080347\n",
      "Iteration 2, loss = 809692.75974657\n",
      "Iteration 3, loss = 809693.08075841\n",
      "Iteration 4, loss = 809697.88705238\n",
      "Iteration 5, loss = 809697.82446199\n",
      "Iteration 6, loss = 809698.61352530\n",
      "Iteration 7, loss = 809687.01410572\n",
      "Iteration 8, loss = 809707.16619981\n",
      "Iteration 9, loss = 809700.90490300\n",
      "Iteration 10, loss = 809702.21263929\n",
      "Iteration 11, loss = 809703.68888681\n",
      "Iteration 12, loss = 809697.89934903\n",
      "Iteration 13, loss = 809688.87243547\n",
      "Iteration 14, loss = 809704.78623577\n",
      "Iteration 15, loss = 809699.49141594\n",
      "Iteration 16, loss = 809697.54185227\n",
      "Iteration 17, loss = 809701.31607519\n",
      "Iteration 18, loss = 809688.58863990\n",
      "Training loss did not improve more than tol=0.000100 for 10 consecutive epochs. Stopping.\n"
     ]
    }
   ],
   "source": [
    "mlp_regr = MLPRegressor(random_state=1, max_iter=30, solver='sgd', verbose=True).fit(train_feat_df, train_targ_df)"
   ]
  },
  {
   "cell_type": "code",
   "execution_count": 20,
   "metadata": {},
   "outputs": [
    {
     "name": "stdout",
     "output_type": "stream",
     "text": [
      "Predicted Max Oxygen:  2315.1138028853425 Actual Max Oxygen:  5984.55\n"
     ]
    }
   ],
   "source": [
    "mlp_pred = mlp_regr.predict(test_feat_df)\n",
    "print(\"Predicted Max Oxygen: \", mlp_pred.max(), \"Actual Max Oxygen: \", test_targ_df.max())"
   ]
  },
  {
   "cell_type": "code",
   "execution_count": 21,
   "metadata": {},
   "outputs": [
    {
     "data": {
      "text/plain": [
       "0.0"
      ]
     },
     "execution_count": 21,
     "metadata": {},
     "output_type": "execute_result"
    }
   ],
   "source": [
    "r2_score(mlp_pred,test_targ_df)"
   ]
  },
  {
   "cell_type": "code",
   "execution_count": null,
   "metadata": {},
   "outputs": [],
   "source": []
  },
  {
   "cell_type": "code",
   "execution_count": 27,
   "metadata": {},
   "outputs": [
    {
     "name": "stdout",
     "output_type": "stream",
     "text": [
      "KNN (Andrew):  [1656.43142857]\n",
      "Linear Regression (Andrew):  [1903589.01908184]\n",
      "Support Vector Machine (Andrew):  [2037.14666204]\n",
      "SKLearn MLP (Andrew):  [2320.9393758]\n",
      "KNN (Adam):  [1735.52571429]\n",
      "Linear Regression (Adam):  [1788999.5720252]\n",
      "Support Vector Machine (Adam):  [2037.14666204]\n",
      "SKLearn MLP (Adam):  [2321.08707258]\n"
     ]
    }
   ],
   "source": [
    "andrew = [287, 90, 195, 58]\n",
    "adam = [260, 85, 198, 61]\n",
    "\n",
    "print(\"KNN (Andrew): \", neigh_regr.predict([andrew]))\n",
    "print(\"Linear Regression (Andrew): \", lin_regr.predict([andrew]))\n",
    "print(\"Support Vector Machine (Andrew): \", svm_regr.predict([andrew]))\n",
    "print(\"SKLearn MLP (Andrew): \", mlp_regr.predict([andrew]))\n",
    "\n",
    "\n",
    "print(\"KNN (Adam): \", neigh_regr.predict([adam]))\n",
    "print(\"Linear Regression (Adam): \", lin_regr.predict([adam]))\n",
    "print(\"Support Vector Machine (Adam): \", svm_regr.predict([adam]))\n",
    "print(\"SKLearn MLP (Adam): \", mlp_regr.predict([adam]))"
   ]
  },
  {
   "cell_type": "code",
   "execution_count": null,
   "metadata": {},
   "outputs": [],
   "source": []
  }
 ],
 "metadata": {
  "kernelspec": {
   "display_name": "Python 3",
   "language": "python",
   "name": "python3"
  },
  "language_info": {
   "codemirror_mode": {
    "name": "ipython",
    "version": 3
   },
   "file_extension": ".py",
   "mimetype": "text/x-python",
   "name": "python",
   "nbconvert_exporter": "python",
   "pygments_lexer": "ipython3",
   "version": "3.7.6"
  }
 },
 "nbformat": 4,
 "nbformat_minor": 4
}
