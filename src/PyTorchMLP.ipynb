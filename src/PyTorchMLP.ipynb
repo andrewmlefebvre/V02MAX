{
  "nbformat": 4,
  "nbformat_minor": 0,
  "metadata": {
    "colab": {
      "name": "PyTorchMLP.ipynb",
      "provenance": [],
      "collapsed_sections": []
    },
    "kernelspec": {
      "name": "python3",
      "display_name": "Python 3"
    },
    "accelerator": "GPU"
  },
  "cells": [
    {
      "cell_type": "code",
      "metadata": {
        "colab": {
          "base_uri": "https://localhost:8080/"
        },
        "id": "Cvcf2bWKQaZH",
        "outputId": "7a4b532c-aaa3-49c7-a870-a7798b757a54"
      },
      "source": [
        "import torch\r\n",
        "\r\n",
        "torch.cuda.is_available()"
      ],
      "execution_count": 1,
      "outputs": [
        {
          "output_type": "execute_result",
          "data": {
            "text/plain": [
              "True"
            ]
          },
          "metadata": {
            "tags": []
          },
          "execution_count": 1
        }
      ]
    },
    {
      "cell_type": "code",
      "metadata": {
        "colab": {
          "base_uri": "https://localhost:8080/"
        },
        "id": "Yi-K3MNAPIap",
        "outputId": "cfd9fe0f-e9de-433a-9326-6ec478399f19"
      },
      "source": [
        "# pytorch mlp for regression\r\n",
        "from numpy import vstack\r\n",
        "from numpy import sqrt\r\n",
        "from pandas import read_csv\r\n",
        "from sklearn.metrics import mean_squared_error\r\n",
        "from torch.utils.data import Dataset\r\n",
        "from torch.utils.data import DataLoader\r\n",
        "from torch.utils.data import random_split\r\n",
        "from torch import Tensor\r\n",
        "from torch.nn import Linear\r\n",
        "from torch.nn import Sigmoid\r\n",
        "from torch.nn import Module\r\n",
        "from torch.optim import SGD\r\n",
        "from torch.nn import MSELoss\r\n",
        "from torch.nn.init import xavier_uniform_\r\n",
        "from sklearn import preprocessing\r\n",
        "import pandas as pd\r\n",
        "\r\n",
        "prepro_feat = preprocessing.MinMaxScaler()\r\n",
        "prepro_targ = preprocessing.MinMaxScaler()\r\n",
        "# dataset definition\r\n",
        "class CSVDataset(Dataset):\r\n",
        "    # load the dataset\r\n",
        "    def __init__(self, path):\r\n",
        "        # load the csv file as a dataframe\r\n",
        "        df = read_csv(path)\r\n",
        "        # print(df)\r\n",
        "        # store the inputs and outputs\r\n",
        "        self.X = df.values[:, :-1].astype('float32')\r\n",
        "        self.X = prepro_feat.fit_transform(self.X)\r\n",
        "\r\n",
        "        # self.X = df.drop(['Oxygen'], axis=1).astype('float32')\r\n",
        "        self.y = df.values[:, -1].astype('float32')\r\n",
        "        self.y = prepro_targ.fit_transform(self.y.reshape(-1, 1))\r\n",
        "        # self.y = Dataframe(df['Oxygen'].astype('float32'))\r\n",
        "        # ensure target has the right shape\r\n",
        "        self.y = self.y.reshape((len(self.y), 1))\r\n",
        "\r\n",
        "    # number of rows in the dataset\r\n",
        "    def __len__(self):\r\n",
        "        return len(self.X)\r\n",
        "\r\n",
        "    # get a row at an index\r\n",
        "    def __getitem__(self, idx):\r\n",
        "        return [self.X[idx], self.y[idx]]\r\n",
        "\r\n",
        "    # get indexes for train and test rows\r\n",
        "    def get_splits(self, n_test=0.33):\r\n",
        "        # determine sizes\r\n",
        "        test_size = round(n_test * len(self.X))\r\n",
        "        train_size = len(self.X) - test_size\r\n",
        "        # calculate the split\r\n",
        "        return random_split(self, [train_size, test_size])\r\n",
        "\r\n",
        "# model definition\r\n",
        "class MLP(Module):\r\n",
        "    # define model elements\r\n",
        "    def __init__(self, n_inputs):\r\n",
        "        super(MLP, self).__init__()\r\n",
        "        # input to first hidden layer\r\n",
        "        self.hidden1 = Linear(n_inputs, 10)\r\n",
        "        xavier_uniform_(self.hidden1.weight)\r\n",
        "        self.act1 = Sigmoid()\r\n",
        "        # second hidden layer\r\n",
        "        self.hidden2 = Linear(10, 8)\r\n",
        "        xavier_uniform_(self.hidden2.weight)\r\n",
        "        self.act2 = Sigmoid()\r\n",
        "        # third hidden layer and output\r\n",
        "        self.hidden3 = Linear(8, 1)\r\n",
        "        xavier_uniform_(self.hidden3.weight)\r\n",
        "\r\n",
        "    # forward propagate input\r\n",
        "    def forward(self, X):\r\n",
        "        # input to first hidden layer\r\n",
        "        X = self.hidden1(X)\r\n",
        "        X = self.act1(X)\r\n",
        "         # second hidden layer\r\n",
        "        X = self.hidden2(X)\r\n",
        "        X = self.act2(X)\r\n",
        "        # third hidden layer and output\r\n",
        "        X = self.hidden3(X)\r\n",
        "        return X\r\n",
        "\r\n",
        "# prepare the dataset\r\n",
        "def prepare_data(path):\r\n",
        "    # load the dataset\r\n",
        "    dataset = CSVDataset(path)\r\n",
        "    # calculate split\r\n",
        "    train, test = dataset.get_splits()\r\n",
        "    # prepare data loaders\r\n",
        "    train_dl = DataLoader(train, batch_size=4, shuffle=True)\r\n",
        "    test_dl = DataLoader(test, batch_size=4, shuffle=False)\r\n",
        "    return train_dl, test_dl\r\n",
        "\r\n",
        "# train the model\r\n",
        "def train_model(train_dl, model):\r\n",
        "    # define the optimization\r\n",
        "    criterion = MSELoss()\r\n",
        "    optimizer = SGD(model.parameters(), lr=0.00001)\r\n",
        "    # enumerate epochs\r\n",
        "    for epoch in range(25):\r\n",
        "        print(\"Epoch: \",epoch)\r\n",
        "        # enumerate mini batches\r\n",
        "        for i, (inputs, targets) in enumerate(train_dl):\r\n",
        "            # clear the gradients\r\n",
        "            optimizer.zero_grad()\r\n",
        "            # compute the model output\r\n",
        "            yhat = model(inputs)\r\n",
        "            # calculate loss\r\n",
        "            loss = criterion(yhat, targets)\r\n",
        "            # credit assignment\r\n",
        "            loss.backward()\r\n",
        "            # update model weights\r\n",
        "            optimizer.step()\r\n",
        "        print(\"Loss: \", loss)\r\n",
        "\r\n",
        "# evaluate the model\r\n",
        "def evaluate_model(test_dl, model):\r\n",
        "    predictions, actuals = list(), list()\r\n",
        "    for i, (inputs, targets) in enumerate(test_dl):\r\n",
        "        # evaluate the model on the test set\r\n",
        "        yhat = model(inputs)\r\n",
        "        # retrieve numpy array\r\n",
        "        yhat = yhat.detach().numpy()\r\n",
        "        actual = targets.numpy()\r\n",
        "        actual = actual.reshape((len(actual), 1))\r\n",
        "        # store\r\n",
        "        predictions.append(yhat)\r\n",
        "        actuals.append(actual)\r\n",
        "    predictions, actuals = vstack(predictions), vstack(actuals)\r\n",
        "    # calculate mse\r\n",
        "    mse = mean_squared_error(actuals, predictions)\r\n",
        "    return mse\r\n",
        "\r\n",
        "# make a class prediction for one row of data\r\n",
        "def predict(row, model):\r\n",
        "    # convert row to data\r\n",
        "    row = Tensor([row])\r\n",
        "    # make prediction\r\n",
        "    yhat = model(row)\r\n",
        "    # retrieve numpy array\r\n",
        "    yhat = yhat.detach().numpy()\r\n",
        "    return yhat\r\n",
        "\r\n",
        "# prepare the data\r\n",
        "path = './combinedHeaderlessDropped.csv'\r\n",
        "train_dl, test_dl = prepare_data(path)\r\n",
        "print(len(train_dl.dataset), len(test_dl.dataset))\r\n",
        "# define the network\r\n",
        "model = MLP(4)\r\n",
        "# train the model\r\n",
        "train_model(train_dl, model)\r\n",
        "# evaluate the model\r\n",
        "mse = evaluate_model(test_dl, model)\r\n",
        "print('MSE: %.3f, RMSE: %.3f' % (mse, sqrt(mse)))\r\n",
        "# make a single prediction (expect class=1)\r\n"
      ],
      "execution_count": 2,
      "outputs": [
        {
          "output_type": "stream",
          "text": [
            "130201 64129\n",
            "Epoch:  0\n",
            "Loss:  tensor(0.1174, grad_fn=<MseLossBackward>)\n",
            "Epoch:  1\n",
            "Loss:  tensor(0.0683, grad_fn=<MseLossBackward>)\n",
            "Epoch:  2\n",
            "Loss:  tensor(0.0896, grad_fn=<MseLossBackward>)\n",
            "Epoch:  3\n",
            "Loss:  tensor(0.0008, grad_fn=<MseLossBackward>)\n",
            "Epoch:  4\n",
            "Loss:  tensor(0.0140, grad_fn=<MseLossBackward>)\n",
            "Epoch:  5\n",
            "Loss:  tensor(0.0917, grad_fn=<MseLossBackward>)\n",
            "Epoch:  6\n",
            "Loss:  tensor(0.0047, grad_fn=<MseLossBackward>)\n",
            "Epoch:  7\n",
            "Loss:  tensor(0.1161, grad_fn=<MseLossBackward>)\n",
            "Epoch:  8\n",
            "Loss:  tensor(0.0146, grad_fn=<MseLossBackward>)\n",
            "Epoch:  9\n",
            "Loss:  tensor(0.0611, grad_fn=<MseLossBackward>)\n",
            "Epoch:  10\n",
            "Loss:  tensor(0.0609, grad_fn=<MseLossBackward>)\n",
            "Epoch:  11\n",
            "Loss:  tensor(0.0726, grad_fn=<MseLossBackward>)\n",
            "Epoch:  12\n",
            "Loss:  tensor(0.0039, grad_fn=<MseLossBackward>)\n",
            "Epoch:  13\n",
            "Loss:  tensor(0.0821, grad_fn=<MseLossBackward>)\n",
            "Epoch:  14\n",
            "Loss:  tensor(0.1068, grad_fn=<MseLossBackward>)\n",
            "Epoch:  15\n",
            "Loss:  tensor(0.0839, grad_fn=<MseLossBackward>)\n",
            "Epoch:  16\n",
            "Loss:  tensor(0.0134, grad_fn=<MseLossBackward>)\n",
            "Epoch:  17\n",
            "Loss:  tensor(0.0020, grad_fn=<MseLossBackward>)\n",
            "Epoch:  18\n",
            "Loss:  tensor(0.0130, grad_fn=<MseLossBackward>)\n",
            "Epoch:  19\n",
            "Loss:  tensor(0.0008, grad_fn=<MseLossBackward>)\n",
            "Epoch:  20\n",
            "Loss:  tensor(0.0177, grad_fn=<MseLossBackward>)\n",
            "Epoch:  21\n",
            "Loss:  tensor(0.0036, grad_fn=<MseLossBackward>)\n",
            "Epoch:  22\n",
            "Loss:  tensor(0.1021, grad_fn=<MseLossBackward>)\n",
            "Epoch:  23\n",
            "Loss:  tensor(0.0770, grad_fn=<MseLossBackward>)\n",
            "Epoch:  24\n",
            "Loss:  tensor(0.0106, grad_fn=<MseLossBackward>)\n",
            "MSE: 0.044, RMSE: 0.210\n"
          ],
          "name": "stdout"
        }
      ]
    },
    {
      "cell_type": "code",
      "metadata": {
        "colab": {
          "base_uri": "https://localhost:8080/"
        },
        "id": "s72DEpB4ZJBH",
        "outputId": "81acba86-41b3-4cbb-e845-c106e6643c43"
      },
      "source": [
        "\r\n",
        "row = prepro_feat.transform([[131.3,90,137.85,25.7]])  # Actual = 2323.202\r\n",
        "yhat = predict(row, model) * (prepro_targ.data_max_ - prepro_targ.data_min_) + prepro_targ.data_min_\r\n",
        "print('Predicted: %.3f' % yhat)\r\n",
        "\r\n"
      ],
      "execution_count": 5,
      "outputs": [
        {
          "output_type": "stream",
          "text": [
            "Predicted: 2285.230\n"
          ],
          "name": "stdout"
        }
      ]
    },
    {
      "cell_type": "code",
      "metadata": {
        "id": "QL_COgXHQy-v"
      },
      "source": [
        ""
      ],
      "execution_count": 3,
      "outputs": []
    }
  ]
}