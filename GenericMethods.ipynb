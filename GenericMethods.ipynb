{
 "cells": [
  {
   "cell_type": "markdown",
   "metadata": {},
   "source": [
    "# V02 Max Model Experiments\n",
    "##### Andrew Lefebvre and Adam Cabral\n",
    "\n",
    "### Here we test multiple different regression methods and compare their results to find the best to use."
   ]
  },
  {
   "cell_type": "code",
   "execution_count": 2,
   "metadata": {},
   "outputs": [],
   "source": [
    "import pandas as pd\n",
    "from sklearn.metrics import r2_score\n",
    "from sklearn.model_selection import GridSearchCV"
   ]
  },
  {
   "cell_type": "code",
   "execution_count": 3,
   "metadata": {},
   "outputs": [],
   "source": [
    "test_df = pd.read_csv(\"./data/rawData/sbj_1_I.csv\")\n",
    "df = pd.read_csv(\"./data/concatedData/combined_csv.csv\")\n",
    "df.drop(['Cadence', 'Power'], axis=1, inplace=True)\n",
    "test_df.drop(['Cadence', 'Power'], axis=1, inplace=True)"
   ]
  },
  {
   "cell_type": "code",
   "execution_count": 4,
   "metadata": {},
   "outputs": [
    {
     "data": {
      "text/html": [
       "<div>\n",
       "<style scoped>\n",
       "    .dataframe tbody tr th:only-of-type {\n",
       "        vertical-align: middle;\n",
       "    }\n",
       "\n",
       "    .dataframe tbody tr th {\n",
       "        vertical-align: top;\n",
       "    }\n",
       "\n",
       "    .dataframe thead th {\n",
       "        text-align: right;\n",
       "    }\n",
       "</style>\n",
       "<table border=\"1\" class=\"dataframe\">\n",
       "  <thead>\n",
       "    <tr style=\"text-align: right;\">\n",
       "      <th></th>\n",
       "      <th>time</th>\n",
       "      <th>Oxygen</th>\n",
       "      <th>HR</th>\n",
       "      <th>RF</th>\n",
       "    </tr>\n",
       "  </thead>\n",
       "  <tbody>\n",
       "    <tr>\n",
       "      <th>0</th>\n",
       "      <td>2</td>\n",
       "      <td>742.400000</td>\n",
       "      <td>73.200000</td>\n",
       "      <td>16.800000</td>\n",
       "    </tr>\n",
       "    <tr>\n",
       "      <th>1</th>\n",
       "      <td>3</td>\n",
       "      <td>737.500000</td>\n",
       "      <td>73.500000</td>\n",
       "      <td>16.000000</td>\n",
       "    </tr>\n",
       "    <tr>\n",
       "      <th>2</th>\n",
       "      <td>4</td>\n",
       "      <td>729.261905</td>\n",
       "      <td>73.642857</td>\n",
       "      <td>15.404762</td>\n",
       "    </tr>\n",
       "    <tr>\n",
       "      <th>3</th>\n",
       "      <td>5</td>\n",
       "      <td>718.937500</td>\n",
       "      <td>73.687500</td>\n",
       "      <td>14.937500</td>\n",
       "    </tr>\n",
       "    <tr>\n",
       "      <th>4</th>\n",
       "      <td>6</td>\n",
       "      <td>707.222222</td>\n",
       "      <td>73.666667</td>\n",
       "      <td>14.555556</td>\n",
       "    </tr>\n",
       "  </tbody>\n",
       "</table>\n",
       "</div>"
      ],
      "text/plain": [
       "   time      Oxygen         HR         RF\n",
       "0     2  742.400000  73.200000  16.800000\n",
       "1     3  737.500000  73.500000  16.000000\n",
       "2     4  729.261905  73.642857  15.404762\n",
       "3     5  718.937500  73.687500  14.937500\n",
       "4     6  707.222222  73.666667  14.555556"
      ]
     },
     "execution_count": 4,
     "metadata": {},
     "output_type": "execute_result"
    }
   ],
   "source": [
    "df.head()"
   ]
  },
  {
   "cell_type": "code",
   "execution_count": 5,
   "metadata": {},
   "outputs": [
    {
     "data": {
      "text/html": [
       "<div>\n",
       "<style scoped>\n",
       "    .dataframe tbody tr th:only-of-type {\n",
       "        vertical-align: middle;\n",
       "    }\n",
       "\n",
       "    .dataframe tbody tr th {\n",
       "        vertical-align: top;\n",
       "    }\n",
       "\n",
       "    .dataframe thead th {\n",
       "        text-align: right;\n",
       "    }\n",
       "</style>\n",
       "<table border=\"1\" class=\"dataframe\">\n",
       "  <thead>\n",
       "    <tr style=\"text-align: right;\">\n",
       "      <th></th>\n",
       "      <th>time</th>\n",
       "      <th>Oxygen</th>\n",
       "      <th>HR</th>\n",
       "      <th>RF</th>\n",
       "    </tr>\n",
       "  </thead>\n",
       "  <tbody>\n",
       "    <tr>\n",
       "      <th>count</th>\n",
       "      <td>194331.000000</td>\n",
       "      <td>194331.000000</td>\n",
       "      <td>194331.000000</td>\n",
       "      <td>194331.000000</td>\n",
       "    </tr>\n",
       "    <tr>\n",
       "      <th>mean</th>\n",
       "      <td>1209.727774</td>\n",
       "      <td>2313.769284</td>\n",
       "      <td>127.814212</td>\n",
       "      <td>29.158271</td>\n",
       "    </tr>\n",
       "    <tr>\n",
       "      <th>std</th>\n",
       "      <td>764.841905</td>\n",
       "      <td>1272.320962</td>\n",
       "      <td>35.887111</td>\n",
       "      <td>9.604156</td>\n",
       "    </tr>\n",
       "    <tr>\n",
       "      <th>min</th>\n",
       "      <td>0.000000</td>\n",
       "      <td>105.273333</td>\n",
       "      <td>45.394286</td>\n",
       "      <td>5.927273</td>\n",
       "    </tr>\n",
       "    <tr>\n",
       "      <th>25%</th>\n",
       "      <td>529.000000</td>\n",
       "      <td>1096.750000</td>\n",
       "      <td>101.000000</td>\n",
       "      <td>22.300000</td>\n",
       "    </tr>\n",
       "    <tr>\n",
       "      <th>50%</th>\n",
       "      <td>1168.000000</td>\n",
       "      <td>2282.083333</td>\n",
       "      <td>129.900000</td>\n",
       "      <td>28.200000</td>\n",
       "    </tr>\n",
       "    <tr>\n",
       "      <th>75%</th>\n",
       "      <td>1843.000000</td>\n",
       "      <td>3307.950000</td>\n",
       "      <td>157.550000</td>\n",
       "      <td>35.050000</td>\n",
       "    </tr>\n",
       "    <tr>\n",
       "      <th>max</th>\n",
       "      <td>3133.000000</td>\n",
       "      <td>5988.450000</td>\n",
       "      <td>204.600000</td>\n",
       "      <td>172.300000</td>\n",
       "    </tr>\n",
       "  </tbody>\n",
       "</table>\n",
       "</div>"
      ],
      "text/plain": [
       "                time         Oxygen             HR             RF\n",
       "count  194331.000000  194331.000000  194331.000000  194331.000000\n",
       "mean     1209.727774    2313.769284     127.814212      29.158271\n",
       "std       764.841905    1272.320962      35.887111       9.604156\n",
       "min         0.000000     105.273333      45.394286       5.927273\n",
       "25%       529.000000    1096.750000     101.000000      22.300000\n",
       "50%      1168.000000    2282.083333     129.900000      28.200000\n",
       "75%      1843.000000    3307.950000     157.550000      35.050000\n",
       "max      3133.000000    5988.450000     204.600000     172.300000"
      ]
     },
     "execution_count": 5,
     "metadata": {},
     "output_type": "execute_result"
    }
   ],
   "source": [
    "df.describe()"
   ]
  },
  {
   "cell_type": "code",
   "execution_count": 6,
   "metadata": {},
   "outputs": [],
   "source": [
    "train_feat_df = df.drop(['Oxygen'], axis=1)\n",
    "train_targ_df = df['Oxygen']\n",
    "\n",
    "test_feat_df = test_df.drop(['Oxygen'], axis=1)\n",
    "test_targ_df = test_df['Oxygen']"
   ]
  },
  {
   "cell_type": "markdown",
   "metadata": {},
   "source": [
    "## Models to be tested:\n",
    "##### 1. KNN Regression\n"
   ]
  },
  {
   "cell_type": "code",
   "execution_count": null,
   "metadata": {},
   "outputs": [],
   "source": [
    "from sklearn.neighbors import KNeighborsRegressor\n",
    "\n",
    "KNN_Parameters = {'n_neighbors': [i for i in range(1,100)]}\n",
    "neigh_regr = GridSearchCV(KNeighborsRegressor(), KNN_Parameters, verbose = 1, n_jobs = 4)\n",
    "neigh_regr.fit(train_feat_df, train_targ_df)\n"
   ]
  },
  {
   "cell_type": "code",
   "execution_count": null,
   "metadata": {},
   "outputs": [],
   "source": [
    "test_pred_targ = neigh_regr.predict(test_feat_df)\n",
    "print(\"Predicted Max Oxygen: \", test_pred_targ.max(), \"Actual Max Oxygen: \", test_targ_df.max())"
   ]
  },
  {
   "cell_type": "code",
   "execution_count": null,
   "metadata": {},
   "outputs": [],
   "source": [
    "r2_score(test_pred_targ,test_targ_df)"
   ]
  },
  {
   "cell_type": "markdown",
   "metadata": {},
   "source": [
    "##### 2. Linear Regression"
   ]
  },
  {
   "cell_type": "code",
   "execution_count": null,
   "metadata": {},
   "outputs": [],
   "source": [
    "from sklearn.linear_model import LinearRegression\n",
    "lin_regr = LinearRegression(n_jobs = 4)\n",
    "lin_regr.fit(train_feat_df, train_targ_df)"
   ]
  },
  {
   "cell_type": "code",
   "execution_count": null,
   "metadata": {},
   "outputs": [],
   "source": [
    "LinearR_pred_targ = lin_regr.predict(test_feat_df)\n",
    "print(\"Predicted Max Oxygen: \", LinearR_pred_targ.max(), \"Actual Max Oxygen: \", test_targ_df.max())"
   ]
  },
  {
   "cell_type": "code",
   "execution_count": null,
   "metadata": {},
   "outputs": [],
   "source": [
    "r2_score(LinearR_pred_targ,test_targ_df)"
   ]
  },
  {
   "cell_type": "markdown",
   "metadata": {},
   "source": [
    "##### 3. Support Vector Machine"
   ]
  },
  {
   "cell_type": "code",
   "execution_count": null,
   "metadata": {},
   "outputs": [
    {
     "name": "stdout",
     "output_type": "stream",
     "text": [
      "Fitting 5 folds for each of 4 candidates, totalling 20 fits\n"
     ]
    },
    {
     "name": "stderr",
     "output_type": "stream",
     "text": [
      "[Parallel(n_jobs=4)]: Using backend LokyBackend with 4 concurrent workers.\n"
     ]
    }
   ],
   "source": [
    "from sklearn import svm\n",
    "# svm_regr = svm.SVR()\n",
    "svm_parameters = {'kernel':('linear', 'rbf'), 'C':[1, 10]}\n",
    " \n",
    "svm_regr = GridSearchCV(svm.SVR(), svm_parameters, verbose = 3, n_jobs = 4)\n",
    "svm_regr.fit(train_feat_df, train_targ_df)"
   ]
  },
  {
   "cell_type": "code",
   "execution_count": null,
   "metadata": {},
   "outputs": [],
   "source": [
    "svm_pred = smv_regr.predict(test_feat_df)\n",
    "print(\"Predicted Max Oxygen: \", svm_pred.max(), \"Actual Max Oxygen: \", test_targ_df.max())"
   ]
  },
  {
   "cell_type": "code",
   "execution_count": null,
   "metadata": {},
   "outputs": [],
   "source": [
    "r2_score(svm_pred,test_targ_df)"
   ]
  },
  {
   "cell_type": "markdown",
   "metadata": {},
   "source": [
    "##### 4. MLP Regressor"
   ]
  },
  {
   "cell_type": "code",
   "execution_count": 7,
   "metadata": {},
   "outputs": [],
   "source": [
    "from sklearn.neural_network import MLPRegressor"
   ]
  },
  {
   "cell_type": "code",
   "execution_count": 9,
   "metadata": {},
   "outputs": [
    {
     "name": "stdout",
     "output_type": "stream",
     "text": [
      "Iteration 1, loss = 363788952421113387989618571150767423488.00000000\n",
      "Iteration 2, loss = 410564087682727804557295254415427502080.00000000\n",
      "Iteration 3, loss = 410560094856526213342280693155614425088.00000000\n",
      "Iteration 4, loss = 410556102069156301705516457873568169984.00000000\n",
      "Iteration 5, loss = 410552109320615878468954497053909581824.00000000\n",
      "Iteration 6, loss = 410548116610906983694915410383370977280.00000000\n",
      "Iteration 7, loss = 410544123940026217279531531717398495232.00000000\n",
      "Iteration 8, loss = 410540131307977734905307786343780188160.00000000\n",
      "Iteration 9, loss = 410536138714757003100420619403110907904.00000000\n",
      "Iteration 10, loss = 410532146160365986369326904667799552000.00000000\n",
      "Iteration 11, loss = 410528153644802342418251138793820127232.00000000\n",
      "Iteration 12, loss = 410524161168067506846604114153317597184.00000000\n",
      "Training loss did not improve more than tol=0.000100 for 10 consecutive epochs. Stopping.\n"
     ]
    }
   ],
   "source": [
    "mlp_regr = MLPRegressor(random_state=1, max_iter=300, solver='sgd', verbose=True).fit(train_feat_df, train_targ_df)"
   ]
  },
  {
   "cell_type": "code",
   "execution_count": 10,
   "metadata": {},
   "outputs": [
    {
     "name": "stdout",
     "output_type": "stream",
     "text": [
      "Predicted Max Oxygen:  2324.72923456801 Actual Max Oxygen:  4575.6\n"
     ]
    }
   ],
   "source": [
    "mlp_pred = mlp_regr.predict(test_feat_df)\n",
    "print(\"Predicted Max Oxygen: \", mlp_pred.max(), \"Actual Max Oxygen: \", test_targ_df.max())"
   ]
  },
  {
   "cell_type": "code",
   "execution_count": 11,
   "metadata": {},
   "outputs": [
    {
     "data": {
      "text/plain": [
       "-9.067865749129566e+30"
      ]
     },
     "execution_count": 11,
     "metadata": {},
     "output_type": "execute_result"
    }
   ],
   "source": [
    "r2_score(mlp_pred,test_targ_df)"
   ]
  },
  {
   "cell_type": "code",
   "execution_count": null,
   "metadata": {},
   "outputs": [],
   "source": []
  }
 ],
 "metadata": {
  "kernelspec": {
   "display_name": "Python 3",
   "language": "python",
   "name": "python3"
  },
  "language_info": {
   "codemirror_mode": {
    "name": "ipython",
    "version": 3
   },
   "file_extension": ".py",
   "mimetype": "text/x-python",
   "name": "python",
   "nbconvert_exporter": "python",
   "pygments_lexer": "ipython3",
   "version": "3.7.6"
  }
 },
 "nbformat": 4,
 "nbformat_minor": 2
}
