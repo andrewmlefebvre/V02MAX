{
 "cells": [
  {
   "cell_type": "code",
   "execution_count": 51,
   "metadata": {},
   "outputs": [],
   "source": [
    "import pandas as pd\n",
    "from sklearn.metrics import r2_score\n",
    "from sklearn.model_selection import GridSearchCV"
   ]
  },
  {
   "cell_type": "code",
   "execution_count": 52,
   "metadata": {},
   "outputs": [],
   "source": [
    "test_df = pd.read_csv(\"./data/rawData/sbj_1_I.csv\")\n",
    "df = pd.read_csv(\"./data/concatedData/combined_csv.csv\")"
   ]
  },
  {
   "cell_type": "code",
   "execution_count": 53,
   "metadata": {},
   "outputs": [
    {
     "data": {
      "text/html": [
       "<div>\n",
       "<style scoped>\n",
       "    .dataframe tbody tr th:only-of-type {\n",
       "        vertical-align: middle;\n",
       "    }\n",
       "\n",
       "    .dataframe tbody tr th {\n",
       "        vertical-align: top;\n",
       "    }\n",
       "\n",
       "    .dataframe thead th {\n",
       "        text-align: right;\n",
       "    }\n",
       "</style>\n",
       "<table border=\"1\" class=\"dataframe\">\n",
       "  <thead>\n",
       "    <tr style=\"text-align: right;\">\n",
       "      <th></th>\n",
       "      <th>time</th>\n",
       "      <th>Power</th>\n",
       "      <th>Oxygen</th>\n",
       "      <th>Cadence</th>\n",
       "      <th>HR</th>\n",
       "      <th>RF</th>\n",
       "    </tr>\n",
       "  </thead>\n",
       "  <tbody>\n",
       "    <tr>\n",
       "      <td>0</td>\n",
       "      <td>2</td>\n",
       "      <td>0.0</td>\n",
       "      <td>742.400000</td>\n",
       "      <td>0.0</td>\n",
       "      <td>73.200000</td>\n",
       "      <td>16.800000</td>\n",
       "    </tr>\n",
       "    <tr>\n",
       "      <td>1</td>\n",
       "      <td>3</td>\n",
       "      <td>0.0</td>\n",
       "      <td>737.500000</td>\n",
       "      <td>0.0</td>\n",
       "      <td>73.500000</td>\n",
       "      <td>16.000000</td>\n",
       "    </tr>\n",
       "    <tr>\n",
       "      <td>2</td>\n",
       "      <td>4</td>\n",
       "      <td>0.0</td>\n",
       "      <td>729.261905</td>\n",
       "      <td>0.0</td>\n",
       "      <td>73.642857</td>\n",
       "      <td>15.404762</td>\n",
       "    </tr>\n",
       "    <tr>\n",
       "      <td>3</td>\n",
       "      <td>5</td>\n",
       "      <td>0.0</td>\n",
       "      <td>718.937500</td>\n",
       "      <td>0.0</td>\n",
       "      <td>73.687500</td>\n",
       "      <td>14.937500</td>\n",
       "    </tr>\n",
       "    <tr>\n",
       "      <td>4</td>\n",
       "      <td>6</td>\n",
       "      <td>0.0</td>\n",
       "      <td>707.222222</td>\n",
       "      <td>0.0</td>\n",
       "      <td>73.666667</td>\n",
       "      <td>14.555556</td>\n",
       "    </tr>\n",
       "  </tbody>\n",
       "</table>\n",
       "</div>"
      ],
      "text/plain": [
       "   time  Power      Oxygen  Cadence         HR         RF\n",
       "0     2    0.0  742.400000      0.0  73.200000  16.800000\n",
       "1     3    0.0  737.500000      0.0  73.500000  16.000000\n",
       "2     4    0.0  729.261905      0.0  73.642857  15.404762\n",
       "3     5    0.0  718.937500      0.0  73.687500  14.937500\n",
       "4     6    0.0  707.222222      0.0  73.666667  14.555556"
      ]
     },
     "execution_count": 53,
     "metadata": {},
     "output_type": "execute_result"
    }
   ],
   "source": [
    "df.head()"
   ]
  },
  {
   "cell_type": "code",
   "execution_count": 54,
   "metadata": {},
   "outputs": [
    {
     "data": {
      "text/html": [
       "<div>\n",
       "<style scoped>\n",
       "    .dataframe tbody tr th:only-of-type {\n",
       "        vertical-align: middle;\n",
       "    }\n",
       "\n",
       "    .dataframe tbody tr th {\n",
       "        vertical-align: top;\n",
       "    }\n",
       "\n",
       "    .dataframe thead th {\n",
       "        text-align: right;\n",
       "    }\n",
       "</style>\n",
       "<table border=\"1\" class=\"dataframe\">\n",
       "  <thead>\n",
       "    <tr style=\"text-align: right;\">\n",
       "      <th></th>\n",
       "      <th>time</th>\n",
       "      <th>Power</th>\n",
       "      <th>Oxygen</th>\n",
       "      <th>Cadence</th>\n",
       "      <th>HR</th>\n",
       "      <th>RF</th>\n",
       "    </tr>\n",
       "  </thead>\n",
       "  <tbody>\n",
       "    <tr>\n",
       "      <td>count</td>\n",
       "      <td>194331.000000</td>\n",
       "      <td>194331.000000</td>\n",
       "      <td>194331.000000</td>\n",
       "      <td>194331.000000</td>\n",
       "      <td>194331.000000</td>\n",
       "      <td>194331.000000</td>\n",
       "    </tr>\n",
       "    <tr>\n",
       "      <td>mean</td>\n",
       "      <td>1209.727774</td>\n",
       "      <td>142.437478</td>\n",
       "      <td>2313.769284</td>\n",
       "      <td>70.317138</td>\n",
       "      <td>127.814212</td>\n",
       "      <td>29.158271</td>\n",
       "    </tr>\n",
       "    <tr>\n",
       "      <td>std</td>\n",
       "      <td>764.841905</td>\n",
       "      <td>121.223069</td>\n",
       "      <td>1272.320962</td>\n",
       "      <td>36.759724</td>\n",
       "      <td>35.887111</td>\n",
       "      <td>9.604156</td>\n",
       "    </tr>\n",
       "    <tr>\n",
       "      <td>min</td>\n",
       "      <td>0.000000</td>\n",
       "      <td>0.000000</td>\n",
       "      <td>105.273333</td>\n",
       "      <td>0.000000</td>\n",
       "      <td>45.394286</td>\n",
       "      <td>5.927273</td>\n",
       "    </tr>\n",
       "    <tr>\n",
       "      <td>25%</td>\n",
       "      <td>529.000000</td>\n",
       "      <td>0.000000</td>\n",
       "      <td>1096.750000</td>\n",
       "      <td>80.000000</td>\n",
       "      <td>101.000000</td>\n",
       "      <td>22.300000</td>\n",
       "    </tr>\n",
       "    <tr>\n",
       "      <td>50%</td>\n",
       "      <td>1168.000000</td>\n",
       "      <td>134.000000</td>\n",
       "      <td>2282.083333</td>\n",
       "      <td>90.000000</td>\n",
       "      <td>129.900000</td>\n",
       "      <td>28.200000</td>\n",
       "    </tr>\n",
       "    <tr>\n",
       "      <td>75%</td>\n",
       "      <td>1843.000000</td>\n",
       "      <td>247.000000</td>\n",
       "      <td>3307.950000</td>\n",
       "      <td>90.000000</td>\n",
       "      <td>157.550000</td>\n",
       "      <td>35.050000</td>\n",
       "    </tr>\n",
       "    <tr>\n",
       "      <td>max</td>\n",
       "      <td>3133.000000</td>\n",
       "      <td>899.028571</td>\n",
       "      <td>5988.450000</td>\n",
       "      <td>153.268421</td>\n",
       "      <td>204.600000</td>\n",
       "      <td>172.300000</td>\n",
       "    </tr>\n",
       "  </tbody>\n",
       "</table>\n",
       "</div>"
      ],
      "text/plain": [
       "                time          Power         Oxygen        Cadence  \\\n",
       "count  194331.000000  194331.000000  194331.000000  194331.000000   \n",
       "mean     1209.727774     142.437478    2313.769284      70.317138   \n",
       "std       764.841905     121.223069    1272.320962      36.759724   \n",
       "min         0.000000       0.000000     105.273333       0.000000   \n",
       "25%       529.000000       0.000000    1096.750000      80.000000   \n",
       "50%      1168.000000     134.000000    2282.083333      90.000000   \n",
       "75%      1843.000000     247.000000    3307.950000      90.000000   \n",
       "max      3133.000000     899.028571    5988.450000     153.268421   \n",
       "\n",
       "                  HR             RF  \n",
       "count  194331.000000  194331.000000  \n",
       "mean      127.814212      29.158271  \n",
       "std        35.887111       9.604156  \n",
       "min        45.394286       5.927273  \n",
       "25%       101.000000      22.300000  \n",
       "50%       129.900000      28.200000  \n",
       "75%       157.550000      35.050000  \n",
       "max       204.600000     172.300000  "
      ]
     },
     "execution_count": 54,
     "metadata": {},
     "output_type": "execute_result"
    }
   ],
   "source": [
    "df.describe()"
   ]
  },
  {
   "cell_type": "code",
   "execution_count": 55,
   "metadata": {},
   "outputs": [],
   "source": [
    "feat_df = df.drop(['Oxygen'], axis=1)\n",
    "targ_df = df['Oxygen']\n",
    "\n",
    "test_feat_df = test_df.drop(['Oxygen'], axis=1)\n",
    "test_targ_df = test_df['Oxygen']"
   ]
  },
  {
   "cell_type": "markdown",
   "metadata": {},
   "source": [
    "## Models to be tested:\n",
    "##### 1. KNN Regression\n"
   ]
  },
  {
   "cell_type": "code",
   "execution_count": 56,
   "metadata": {},
   "outputs": [
    {
     "data": {
      "text/plain": [
       "KNeighborsRegressor(algorithm='auto', leaf_size=30, metric='minkowski',\n",
       "                    metric_params=None, n_jobs=None, n_neighbors=5, p=2,\n",
       "                    weights='uniform')"
      ]
     },
     "execution_count": 56,
     "metadata": {},
     "output_type": "execute_result"
    }
   ],
   "source": [
    "from sklearn.neighbors import KNeighborsRegressor\n",
    "neigh = KNeighborsRegressor(n_neighbors=5)\n",
    "neigh.fit(feat_df, targ_df)\n"
   ]
  },
  {
   "cell_type": "code",
   "execution_count": 57,
   "metadata": {},
   "outputs": [
    {
     "name": "stdout",
     "output_type": "stream",
     "text": [
      "4552.8 4575.6\n"
     ]
    }
   ],
   "source": [
    "test_pred_targ = neigh.predict(test_feat_df)\n",
    "print(test_pred_targ.max(), test_targ_df.max())"
   ]
  },
  {
   "cell_type": "code",
   "execution_count": 58,
   "metadata": {},
   "outputs": [
    {
     "data": {
      "text/plain": [
       "0.99968208061438"
      ]
     },
     "execution_count": 58,
     "metadata": {},
     "output_type": "execute_result"
    }
   ],
   "source": [
    "r2_score(test_pred_targ,test_targ_df)"
   ]
  },
  {
   "cell_type": "code",
   "execution_count": 59,
   "metadata": {},
   "outputs": [
    {
     "data": {
      "text/plain": [
       "(194331,)"
      ]
     },
     "execution_count": 59,
     "metadata": {},
     "output_type": "execute_result"
    }
   ],
   "source": [
    "pred_targ.shape"
   ]
  },
  {
   "cell_type": "markdown",
   "metadata": {},
   "source": [
    "##### 2. Linear Regression"
   ]
  },
  {
   "cell_type": "code",
   "execution_count": 42,
   "metadata": {},
   "outputs": [
    {
     "data": {
      "text/plain": [
       "LinearRegression(copy_X=True, fit_intercept=True, n_jobs=None, normalize=False)"
      ]
     },
     "execution_count": 42,
     "metadata": {},
     "output_type": "execute_result"
    }
   ],
   "source": [
    "from sklearn.linear_model import LinearRegression\n",
    "reg = LinearRegression()\n",
    "reg.fit(feat_df, targ_df)"
   ]
  },
  {
   "cell_type": "code",
   "execution_count": 47,
   "metadata": {},
   "outputs": [
    {
     "name": "stdout",
     "output_type": "stream",
     "text": [
      "7107.088392881607 5988.45\n"
     ]
    }
   ],
   "source": [
    "LinearR_pred_targ = reg.predict(feat_df)\n",
    "print(LinearR_pred_targ.max(), targ_df.max())"
   ]
  },
  {
   "cell_type": "code",
   "execution_count": 44,
   "metadata": {},
   "outputs": [
    {
     "data": {
      "text/plain": [
       "0.8733274252499806"
      ]
     },
     "execution_count": 44,
     "metadata": {},
     "output_type": "execute_result"
    }
   ],
   "source": [
    "r2_score(LinearR_pred_targ,targ_df)"
   ]
  },
  {
   "cell_type": "code",
   "execution_count": null,
   "metadata": {},
   "outputs": [],
   "source": []
  }
 ],
 "metadata": {
  "kernelspec": {
   "display_name": "Python 3",
   "language": "python",
   "name": "python3"
  },
  "language_info": {
   "codemirror_mode": {
    "name": "ipython",
    "version": 3
   },
   "file_extension": ".py",
   "mimetype": "text/x-python",
   "name": "python",
   "nbconvert_exporter": "python",
   "pygments_lexer": "ipython3",
   "version": "3.7.4"
  }
 },
 "nbformat": 4,
 "nbformat_minor": 2
}
